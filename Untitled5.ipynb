{
  "nbformat": 4,
  "nbformat_minor": 0,
  "metadata": {
    "colab": {
      "provenance": [],
      "authorship_tag": "ABX9TyMz9vBJZp6kjdS+DTYeve9I",
      "include_colab_link": true
    },
    "kernelspec": {
      "name": "python3",
      "display_name": "Python 3"
    },
    "language_info": {
      "name": "python"
    }
  },
  "cells": [
    {
      "cell_type": "markdown",
      "metadata": {
        "id": "view-in-github",
        "colab_type": "text"
      },
      "source": [
        "<a href=\"https://colab.research.google.com/github/sghanta25/SWE/blob/main/Untitled5.ipynb\" target=\"_parent\"><img src=\"https://colab.research.google.com/assets/colab-badge.svg\" alt=\"Open In Colab\"/></a>"
      ]
    },
    {
      "cell_type": "code",
      "execution_count": null,
      "metadata": {
        "id": "U4RxZxa8QRp9"
      },
      "outputs": [],
      "source": []
    },
    {
      "cell_type": "code",
      "source": [
        "from google.colab import drive\n",
        "drive.mount('/content/drive')"
      ],
      "metadata": {
        "id": "D05l05meSu8i"
      },
      "execution_count": null,
      "outputs": []
    },
    {
      "cell_type": "code",
      "source": [
        "file_path = '/content/TempHumiWind.xlsx'"
      ],
      "metadata": {
        "id": "LqUFKp_TSzup"
      },
      "execution_count": 1,
      "outputs": []
    },
    {
      "cell_type": "code",
      "source": [
        "import pandas as pd\n",
        "try:\n",
        "    df = pd.read_excel(file_path)\n",
        "    print(\"Dataset loaded successfully!\")\n",
        "    print(\"Columns in the updated dataset:\", df.columns)\n",
        "except Exception as e:\n",
        "    print(\"Error loading the file:\", e)"
      ],
      "metadata": {
        "colab": {
          "base_uri": "https://localhost:8080/"
        },
        "id": "lTER2x2aS6mO",
        "outputId": "414ce5c0-5d6d-48da-9b6d-1a9e776b121e"
      },
      "execution_count": 2,
      "outputs": [
        {
          "output_type": "stream",
          "name": "stdout",
          "text": [
            "Dataset loaded successfully!\n",
            "Columns in the updated dataset: Index(['CITY', 'TEMPERATURE ', 'HUMIDITY', 'WIND SPEED'], dtype='object')\n"
          ]
        }
      ]
    },
    {
      "cell_type": "code",
      "source": [
        "try:\n",
        "    df = pd.read_excel(file_path)\n",
        "    print(\"Dataset loaded successfully!\")\n",
        "    print(\"Columns:\", df.columns)\n",
        "except Exception as e:\n",
        "    print(\"Error loading the file:\", e)\n",
        "\n",
        "df.columns = df.columns.str.strip()\n",
        "\n",
        "\n",
        "user_input = input(\"\\nEnter city names separated by commas (e.g., Mumbai, Delhi): \")\n",
        "user_cities = [city.strip() for city in user_input.split(\",\")]\n",
        "\n",
        "\n",
        "valid_cities = df[\"CITY\"].unique()\n",
        "matched_cities = [city for city in user_cities if city in valid_cities]\n",
        "\n",
        "if not matched_cities:\n",
        "    print(\"No valid cities found in the dataset. Exiting.\")\n",
        "else:\n",
        "    print(f\"\\nProcessing data for the following matched cities: {matched_cities}\")\n",
        "\n",
        "def calculate_weather(temp, humidity, wind_speed):\n",
        "    \"\"\"\n",
        "    Calculate weather using the given formula:\n",
        "    W = 0.5 * t^2 - 0.2 * Humidity + 0.1 * Wind Speed - 15\n",
        "    \"\"\"\n",
        "    W = (0.5 * temp**2) - (0.2 * humidity) + (0.1 * wind_speed) - 15\n",
        "    return W\n",
        "\n",
        "\n",
        "\n",
        "def categorize_weather(W):\n",
        "    \"\"\"\n",
        "    Categorize the weather condition based on the value of W\n",
        "    \"\"\"\n",
        "    if W > 300:\n",
        "        return \"Cloudy\"\n",
        "    elif 200 < W <= 300:\n",
        "        return \"Sunny\"\n",
        "    else:\n",
        "        return \"Rainy\"\n",
        "\n",
        "\n",
        "\n",
        "print(\"\\nWeather Prediction Results:\")\n",
        "for city in matched_cities:\n",
        "\n",
        "    city_data = df[df[\"CITY\"] == city].iloc[0]\n",
        "    temp = city_data[\"TEMPERATURE\"]\n",
        "    humidity = city_data[\"HUMIDITY\"]\n",
        "    wind_speed = city_data[\"WIND SPEED\"]\n",
        "\n",
        "\n",
        "    modeled_weather = calculate_weather(temp, humidity, wind_speed)\n",
        "\n",
        "\n",
        "    weather_condition = categorize_weather(modeled_weather)\n",
        "\n",
        "    print(\n",
        "        f\"City: {city}\\n\"\n",
        "        f\"Temperature: {temp} °C\\n\"\n",
        "        f\"Humidity: {humidity} %\\n\"\n",
        "        f\"Wind Speed: {wind_speed} m/s\\n\"\n",
        "        f\"Calculated Weather Value (W): {modeled_weather:.2f}\\n\"\n",
        "        f\"Weather Condition: {weather_condition}\\n\"\n",
        "    )"
      ],
      "metadata": {
        "colab": {
          "base_uri": "https://localhost:8080/"
        },
        "id": "DjEUA205TIrN",
        "outputId": "f09a2a82-103d-421d-c91b-bf3f75dbe1ca"
      },
      "execution_count": 3,
      "outputs": [
        {
          "output_type": "stream",
          "name": "stdout",
          "text": [
            "Dataset loaded successfully!\n",
            "Columns: Index(['CITY', 'TEMPERATURE ', 'HUMIDITY', 'WIND SPEED'], dtype='object')\n",
            "\n",
            "Enter city names separated by commas (e.g., Mumbai, Delhi): Delhi\n",
            "\n",
            "Processing data for the following matched cities: ['Delhi']\n",
            "\n",
            "Weather Prediction Results:\n",
            "City: Delhi\n",
            "Temperature: 20 °C\n",
            "Humidity: 50 %\n",
            "Wind Speed: 4.5 m/s\n",
            "Calculated Weather Value (W): 175.45\n",
            "Weather Condition: Rainy\n",
            "\n"
          ]
        }
      ]
    }
  ]
}