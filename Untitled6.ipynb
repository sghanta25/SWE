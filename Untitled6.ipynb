{
  "nbformat": 4,
  "nbformat_minor": 0,
  "metadata": {
    "colab": {
      "provenance": [],
      "authorship_tag": "ABX9TyO7cdiDLuapvKcwqlj+36km",
      "include_colab_link": true
    },
    "kernelspec": {
      "name": "python3",
      "display_name": "Python 3"
    },
    "language_info": {
      "name": "python"
    }
  },
  "cells": [
    {
      "cell_type": "markdown",
      "metadata": {
        "id": "view-in-github",
        "colab_type": "text"
      },
      "source": [
        "<a href=\"https://colab.research.google.com/github/sghanta25/SWE/blob/main/Untitled6.ipynb\" target=\"_parent\"><img src=\"https://colab.research.google.com/assets/colab-badge.svg\" alt=\"Open In Colab\"/></a>"
      ]
    },
    {
      "cell_type": "code",
      "execution_count": 1,
      "metadata": {
        "colab": {
          "base_uri": "https://localhost:8080/"
        },
        "id": "ui8JRlm8X2BE",
        "outputId": "74c8c877-6a5c-47ba-848b-4779e65cebaf"
      },
      "outputs": [
        {
          "output_type": "stream",
          "name": "stdout",
          "text": [
            "Enter a string to check if it's a palindrome: sanjana\n",
            "'sanjana' is not a palindrome.\n"
          ]
        }
      ],
      "source": [
        "def is_palindrome(input_string):\n",
        "    cleaned_string = ''.join(char.lower() for char in input_string if char.isalnum())\n",
        "    return cleaned_string == cleaned_string[::-1]\n",
        "test_string = input(\"Enter a string to check if it's a palindrome: \")\n",
        "if is_palindrome(test_string):\n",
        "    print(f\"'{test_string}' is a palindrome!\")\n",
        "else:\n",
        "    print(f\"'{test_string}' is not a palindrome.\")\n"
      ]
    }
  ]
}